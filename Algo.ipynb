{
 "cells": [
  {
   "cell_type": "code",
   "execution_count": 6,
   "id": "58196975",
   "metadata": {},
   "outputs": [],
   "source": [
    "from website import create_app\n",
    "from website.models import User, Books, Category, BorrowedBooks, BorrowedBooksDetail"
   ]
  },
  {
   "cell_type": "code",
   "execution_count": 7,
   "id": "0cb52a37",
   "metadata": {},
   "outputs": [],
   "source": [
    "import numpy as np\n",
    "import pandas as pd\n",
    "from sklearn.metrics.pairwise import cosine_similarity"
   ]
  },
  {
   "cell_type": "code",
   "execution_count": 8,
   "id": "5d8b7d98",
   "metadata": {},
   "outputs": [],
   "source": [
    "app = create_app()"
   ]
  },
  {
   "cell_type": "code",
   "execution_count": 14,
   "id": "692c823d",
   "metadata": {},
   "outputs": [],
   "source": [
    "def prepare_data():\n",
    "    data = []\n",
    "    headers = BorrowedBooks.query.all()\n",
    "    for header in headers:\n",
    "        details = BorrowedBooksDetail.query.filter_by(borrow_id = header.borrow_id)\n",
    "        for detail in details:\n",
    "            data.append((header.user_id,detail.book_id))\n",
    "    return data\n",
    "\n",
    "def get_recommendations(user_id, df, num_recommendations):\n",
    "    # Get the user's book IDs\n",
    "    user_book_ids = df[df['user_id'] == user_id]['book_id'].tolist()\n",
    "    \n",
    "    # Get the books the user has not rated\n",
    "    unrated_books = df[~df['book_id'].isin(user_book_ids)]\n",
    "    \n",
    "    # Create a pivot table of the user's book IDs\n",
    "    pivot = pd.crosstab(index=df['book_id'], columns=df['user_id'], values=df['book_id'], aggfunc='count', normalize='index')\n",
    "    \n",
    "    # Get the cosine similarity between the pivot table and itself\n",
    "    similarity = cosine_similarity(pivot, pivot)\n",
    "    \n",
    "    # Map the similarity to the unrated books\n",
    "    similarity_map = pd.DataFrame(similarity, index=pivot.index, columns=pivot.index)\n",
    "    \n",
    "    # Get the top N most similar books to the pivot\n",
    "    top_n = similarity_map[unrated_books['book_id']].head(num_recommendations)\n",
    "    # Get the top N most similar books' IDs\n",
    "    top_n_book_ids = top_n.index.tolist()\n",
    "    \n",
    "#     # Connect to the database\n",
    "#     engine = create_engine('sqlite:///books.db')\n",
    "    \n",
    "#     # Query the database for book information\n",
    "#     books = pd.read_sql_table('books', engine)\n",
    "    \n",
    "#     # Get the top N most similar books' titles\n",
    "#     top_n_titles = books[books['book_id'].isin(top_n_book_ids)]['title']\n",
    "    \n",
    "    return top_n_book_ids"
   ]
  },
  {
   "cell_type": "code",
   "execution_count": 15,
   "id": "fda4723a",
   "metadata": {},
   "outputs": [],
   "source": [
    "with app.app_context():\n",
    "    data = prepare_data()\n",
    "    df = pd.DataFrame(data, columns=['user_id', 'book_id'])\n",
    "    top_n_book_ids = get_recommendations(4, df, 2)"
   ]
  },
  {
   "cell_type": "code",
   "execution_count": 13,
   "id": "4fb8e6b2",
   "metadata": {},
   "outputs": [
    {
     "ename": "NameError",
     "evalue": "name 'similarity_map' is not defined",
     "output_type": "error",
     "traceback": [
      "\u001b[1;31m---------------------------------------------------------------------------\u001b[0m",
      "\u001b[1;31mNameError\u001b[0m                                 Traceback (most recent call last)",
      "Cell \u001b[1;32mIn[13], line 1\u001b[0m\n\u001b[1;32m----> 1\u001b[0m top_n_book_ids,\u001b[43msimilarity_map\u001b[49m\n",
      "\u001b[1;31mNameError\u001b[0m: name 'similarity_map' is not defined"
     ]
    }
   ],
   "source": [
    "top_n_book_ids,similarity_map"
   ]
  },
  {
   "cell_type": "code",
   "execution_count": null,
   "id": "63c6786f",
   "metadata": {},
   "outputs": [],
   "source": [
    "user_id = 4\n",
    "num_recommendations = 2"
   ]
  },
  {
   "cell_type": "code",
   "execution_count": null,
   "id": "88ceb34c",
   "metadata": {},
   "outputs": [],
   "source": [
    "# Get the user's book IDs\n",
    "user_book_ids = df[df['user_id'] == user_id]['book_id'].tolist()\n",
    "\n",
    "# Get the books the user has not rated\n",
    "unrated_books = df[~df['book_id'].isin(user_book_ids)]\n",
    "\n",
    "# Create a pivot table of the user's book IDs\n",
    "pivot = pd.crosstab(index=df['book_id'], columns=df['user_id'], values=df['book_id'], aggfunc='count', normalize='index')\n",
    "\n",
    "# Get the cosine similarity between the pivot table and itself\n",
    "similarity = cosine_similarity(pivot, pivot)\n",
    "\n",
    "# Map the similarity to the unrated books\n",
    "similarity_map = pd.DataFrame(similarity, index=pivot.index, columns=pivot.index)"
   ]
  },
  {
   "cell_type": "code",
   "execution_count": null,
   "id": "20991e95",
   "metadata": {},
   "outputs": [],
   "source": [
    "top_n = similarity_map[unrated_books['book_id']].sort_values(15,ascending=False)"
   ]
  },
  {
   "cell_type": "code",
   "execution_count": null,
   "id": "f5d6c19e",
   "metadata": {},
   "outputs": [],
   "source": [
    "top_n,similarity,similarity_map"
   ]
  },
  {
   "cell_type": "code",
   "execution_count": null,
   "id": "d9ff642c",
   "metadata": {},
   "outputs": [],
   "source": []
  },
  {
   "cell_type": "code",
   "execution_count": null,
   "id": "f113539a",
   "metadata": {},
   "outputs": [],
   "source": [
    "# Get the user's books\n",
    "user_books = df[df['user_id'] == user_id]\n",
    "\n",
    "# Get the books the user has not rated\n",
    "unrated_books = df[~df['book_id'].isin(user_books['book_id'])]\n",
    "\n",
    "# Create a pivot table of the user's books\n",
    "pivot = pd.pivot_table(df, index='book_id', columns='user_id', values='book_id')\n",
    "\n",
    "# Get the cosine similarity between the pivot table and itself\n",
    "similarity = cosine_similarity(pivot, pivot)\n",
    "\n",
    "# Map the similarity to the unrated books\n",
    "similarity_map = pd.DataFrame(similarity, index=pivot.index, columns=pivot.index)\n",
    "\n",
    "# Get the top N most similar books to the pivot\n",
    "#top_n = similarity_map[unrated_books['book_id']].sort_values(user_id, ascending=False).head(num_recommendations)\n"
   ]
  },
  {
   "cell_type": "code",
   "execution_count": null,
   "id": "6bdfb5c1",
   "metadata": {},
   "outputs": [],
   "source": [
    "!pip install scikit-learn"
   ]
  },
  {
   "cell_type": "code",
   "execution_count": null,
   "id": "c52bd177",
   "metadata": {},
   "outputs": [],
   "source": [
    "similarity_map = pd.DataFrame(similarity, index=pivot.index, columns=pivot.columns)\n"
   ]
  },
  {
   "cell_type": "code",
   "execution_count": null,
   "id": "1918f936",
   "metadata": {},
   "outputs": [],
   "source": [
    "import pandas as pd\n",
    "from scipy.spatial.distance import cosine\n",
    "\n",
    "def prepare_data():\n",
    "    return [\n",
    "        [1, 1, 5],\n",
    "        [1, 2, 4],\n",
    "        [1, 3, 2],\n",
    "        [2, 1, 4],\n",
    "        [2, 2, 3],\n",
    "        [2, 3, 5],\n",
    "        [3, 1, 2],\n",
    "        [3, 2, 1],\n",
    "        [3, 3, 5],\n",
    "    ]\n",
    "\n",
    "def get_recommendations(user_id, df, num_recommendations):\n",
    "    pivot = pd.pivot_table(df, values='rating', index='user_id', columns='book_id')\n",
    "    user_ratings = pivot.loc[user_id].dropna()\n",
    "    unrated_books = pivot.loc[:, pivot.loc[user_id].isna()].dropna(axis=1)\n",
    "    similarity = 1 - cosine(pivot.loc[user_id].values.reshape(1, -1), pivot.T)\n",
    "    similarity_map = pd.Series(similarity, index=pivot.index)\n",
    "    top_n = similarity_map.sort_values(ascending=False).head(num_recommendations+1)\n",
    "    top_n = top_n.drop(user_id)\n",
    "    top_n_book_ids = top_n.index.tolist()\n",
    "    return top_n_book_ids\n",
    "\n",
    "data = prepare_data()\n",
    "df = pd.DataFrame(data, columns=['user_id', 'book_id', 'rating'])\n",
    "top_n_book_ids = get_recommendations(1, df, 2)\n",
    "print(top_n_book_ids)\n"
   ]
  },
  {
   "cell_type": "code",
   "execution_count": null,
   "id": "4bf972d7",
   "metadata": {},
   "outputs": [],
   "source": []
  }
 ],
 "metadata": {
  "kernelspec": {
   "display_name": "Python 3 (ipykernel)",
   "language": "python",
   "name": "python3"
  },
  "language_info": {
   "codemirror_mode": {
    "name": "ipython",
    "version": 3
   },
   "file_extension": ".py",
   "mimetype": "text/x-python",
   "name": "python",
   "nbconvert_exporter": "python",
   "pygments_lexer": "ipython3",
   "version": "3.10.8"
  }
 },
 "nbformat": 4,
 "nbformat_minor": 5
}
