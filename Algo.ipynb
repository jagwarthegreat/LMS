{
 "cells": [
  {
   "cell_type": "code",
   "execution_count": 1,
   "id": "58196975",
   "metadata": {},
   "outputs": [],
   "source": [
    "from website import create_app\n",
    "from website.models import User, Books, Category, BorrowedBooks, BorrowedBooksDetail"
   ]
  },
  {
   "cell_type": "code",
   "execution_count": 2,
   "id": "0cb52a37",
   "metadata": {},
   "outputs": [],
   "source": [
    "import numpy as np\n",
    "import pandas as pd\n",
    "from sklearn.metrics.pairwise import cosine_similarity"
   ]
  },
  {
   "cell_type": "code",
   "execution_count": 3,
   "id": "5d8b7d98",
   "metadata": {},
   "outputs": [],
   "source": [
    "app = create_app()"
   ]
  },
  {
   "cell_type": "code",
   "execution_count": 48,
   "id": "692c823d",
   "metadata": {},
   "outputs": [],
   "source": [
    "def prepare_data():\n",
    "    data = []\n",
    "    headers = BorrowedBooks.query.all()\n",
    "    for header in headers:\n",
    "        details = BorrowedBooksDetail.query.filter_by(borrow_id = header.borrow_id)\n",
    "        for detail in details:\n",
    "            data.append((header.user_id,detail.book_id))\n",
    "    books = Books.query.all()\n",
    "#     for book in books:\n",
    "#         data.append((0,book.book_id))\n",
    "    return data\n",
    "\n",
    "def get_recommendations(user_id, df, num_recommendations):\n",
    "    # Get the user's book IDs\n",
    "    user_book_ids = df[df['user_id'] == user_id]['book_id'].tolist()\n",
    "    \n",
    "    # Get the books the user has not rated\n",
    "    unrated_books = df[~df['book_id'].isin(user_book_ids)]\n",
    "    \n",
    "    # Create a pivot table of the user's book IDs\n",
    "    pivot = pd.crosstab(index=df['book_id'], columns=df['user_id'], values=df['book_id'], aggfunc='count', normalize='index')\n",
    "    \n",
    "    # Get the cosine similarity between the pivot table and itself\n",
    "    similarity = cosine_similarity(pivot, pivot)\n",
    "    \n",
    "    # Map the similarity to the unrated books\n",
    "    similarity_map = pd.DataFrame(similarity, index=pivot.index, columns=pivot.index)\n",
    "    similarity_map = similarity_map.sort_values(by=similarity_map.columns[0], ascending=False)\n",
    "\n",
    "    # Get the top N most similar books to the pivot\n",
    "    top_n = similarity_map[unrated_books['book_id']].head(num_recommendations)\n",
    "    # Get the top N most similar books' IDs\n",
    "    top_n_book_ids = top_n.index.tolist()\n",
    "    \n",
    "#     # Connect to the database\n",
    "#     engine = create_engine('sqlite:///books.db')\n",
    "    \n",
    "#     # Query the database for book information\n",
    "#     books = pd.read_sql_table('books', engine)\n",
    "    \n",
    "#     # Get the top N most similar books' titles\n",
    "#     top_n_titles = books[books['book_id'].isin(top_n_book_ids)]['title']\n",
    "    \n",
    "    return top_n_book_ids"
   ]
  },
  {
   "cell_type": "code",
   "execution_count": 49,
   "id": "fda4723a",
   "metadata": {},
   "outputs": [],
   "source": [
    "with app.app_context():\n",
    "    data = prepare_data()\n",
    "    df = pd.DataFrame(data, columns=['user_id', 'book_id'])\n",
    "    top_n_book_ids = get_recommendations(1, df, 10)\n",
    "    datas = books_data(top_n_book_ids)"
   ]
  },
  {
   "cell_type": "code",
   "execution_count": 50,
   "id": "4fb8e6b2",
   "metadata": {},
   "outputs": [],
   "source": [
    "def books_data(top_n_book_ids):\n",
    "    data = []\n",
    "    for ids in top_n_book_ids:\n",
    "        book_data = Books.query.filter_by(book_id=ids).first()\n",
    "        if book_data:\n",
    "            data.append({\n",
    "                \"book_id\": book_data.book_id,\n",
    "                \"book_title\": book_data.book_title,\n",
    "                \"book_author\": book_data.book_author,\n",
    "                \"book_cover_img\": book_data.book_cover_img\n",
    "            })\n",
    "    return data"
   ]
  },
  {
   "cell_type": "code",
   "execution_count": 51,
   "id": "dc3424c5",
   "metadata": {},
   "outputs": [
    {
     "data": {
      "text/plain": [
       "[{'book_id': 10,\n",
       "  'book_title': 'Book 1',\n",
       "  'book_author': 'dasd',\n",
       "  'book_cover_img': '/static/uploads/cover_images/HOME_DECOR_INDOOR_WALL_WATER_FALL_IDEAS___WATER_FEATURES_DESIGN_IDEAS___WALL_MOUNTED_IDEAS_water_a.jpg'},\n",
       " {'book_id': 15,\n",
       "  'book_title': 'Book 6',\n",
       "  'book_author': 'a',\n",
       "  'book_cover_img': ''},\n",
       " {'book_id': 12,\n",
       "  'book_title': 'Book 3',\n",
       "  'book_author': '3',\n",
       "  'book_cover_img': ''},\n",
       " {'book_id': 16,\n",
       "  'book_title': 'Book 8',\n",
       "  'book_author': 'book 8',\n",
       "  'book_cover_img': ''}]"
      ]
     },
     "execution_count": 51,
     "metadata": {},
     "output_type": "execute_result"
    }
   ],
   "source": [
    "datas"
   ]
  },
  {
   "cell_type": "code",
   "execution_count": 67,
   "id": "63c6786f",
   "metadata": {},
   "outputs": [],
   "source": [
    "user_id = 4\n",
    "num_recommendations = 10"
   ]
  },
  {
   "cell_type": "code",
   "execution_count": null,
   "id": "f3d1a3c3",
   "metadata": {},
   "outputs": [],
   "source": []
  },
  {
   "cell_type": "code",
   "execution_count": 68,
   "id": "43aeb37a",
   "metadata": {},
   "outputs": [],
   "source": [
    "# Get the user's book IDs\n",
    "user_book_ids = df[df['user_id'] == user_id]['book_id'].tolist()"
   ]
  },
  {
   "cell_type": "code",
   "execution_count": 69,
   "id": "c094b66c",
   "metadata": {},
   "outputs": [
    {
     "data": {
      "text/plain": [
       "[15, 12]"
      ]
     },
     "execution_count": 69,
     "metadata": {},
     "output_type": "execute_result"
    }
   ],
   "source": [
    "user_book_ids"
   ]
  },
  {
   "cell_type": "code",
   "execution_count": 70,
   "id": "6274fe36",
   "metadata": {},
   "outputs": [],
   "source": [
    "# Get the books the user has not rated\n",
    "unrated_books = df[~df['book_id'].isin(user_book_ids)]"
   ]
  },
  {
   "cell_type": "code",
   "execution_count": 71,
   "id": "e26b59fb",
   "metadata": {},
   "outputs": [
    {
     "data": {
      "text/html": [
       "<div>\n",
       "<style scoped>\n",
       "    .dataframe tbody tr th:only-of-type {\n",
       "        vertical-align: middle;\n",
       "    }\n",
       "\n",
       "    .dataframe tbody tr th {\n",
       "        vertical-align: top;\n",
       "    }\n",
       "\n",
       "    .dataframe thead th {\n",
       "        text-align: right;\n",
       "    }\n",
       "</style>\n",
       "<table border=\"1\" class=\"dataframe\">\n",
       "  <thead>\n",
       "    <tr style=\"text-align: right;\">\n",
       "      <th></th>\n",
       "      <th>user_id</th>\n",
       "      <th>book_id</th>\n",
       "    </tr>\n",
       "  </thead>\n",
       "  <tbody>\n",
       "    <tr>\n",
       "      <th>0</th>\n",
       "      <td>1</td>\n",
       "      <td>16</td>\n",
       "    </tr>\n",
       "    <tr>\n",
       "      <th>4</th>\n",
       "      <td>5</td>\n",
       "      <td>10</td>\n",
       "    </tr>\n",
       "  </tbody>\n",
       "</table>\n",
       "</div>"
      ],
      "text/plain": [
       "   user_id  book_id\n",
       "0        1       16\n",
       "4        5       10"
      ]
     },
     "execution_count": 71,
     "metadata": {},
     "output_type": "execute_result"
    }
   ],
   "source": [
    "unrated_books"
   ]
  },
  {
   "cell_type": "code",
   "execution_count": 72,
   "id": "25f302dd",
   "metadata": {},
   "outputs": [],
   "source": [
    "# Create a pivot table of the user's book IDs\n",
    "pivot = pd.crosstab(index=df['book_id'], columns=df['user_id'], values=df['book_id'], aggfunc='count', normalize='index')"
   ]
  },
  {
   "cell_type": "code",
   "execution_count": 73,
   "id": "da4a6014",
   "metadata": {},
   "outputs": [
    {
     "data": {
      "text/html": [
       "<div>\n",
       "<style scoped>\n",
       "    .dataframe tbody tr th:only-of-type {\n",
       "        vertical-align: middle;\n",
       "    }\n",
       "\n",
       "    .dataframe tbody tr th {\n",
       "        vertical-align: top;\n",
       "    }\n",
       "\n",
       "    .dataframe thead th {\n",
       "        text-align: right;\n",
       "    }\n",
       "</style>\n",
       "<table border=\"1\" class=\"dataframe\">\n",
       "  <thead>\n",
       "    <tr style=\"text-align: right;\">\n",
       "      <th>user_id</th>\n",
       "      <th>1</th>\n",
       "      <th>4</th>\n",
       "      <th>5</th>\n",
       "    </tr>\n",
       "    <tr>\n",
       "      <th>book_id</th>\n",
       "      <th></th>\n",
       "      <th></th>\n",
       "      <th></th>\n",
       "    </tr>\n",
       "  </thead>\n",
       "  <tbody>\n",
       "    <tr>\n",
       "      <th>10</th>\n",
       "      <td>0.0</td>\n",
       "      <td>0.0</td>\n",
       "      <td>1.0</td>\n",
       "    </tr>\n",
       "    <tr>\n",
       "      <th>12</th>\n",
       "      <td>0.0</td>\n",
       "      <td>1.0</td>\n",
       "      <td>0.0</td>\n",
       "    </tr>\n",
       "    <tr>\n",
       "      <th>15</th>\n",
       "      <td>0.0</td>\n",
       "      <td>0.5</td>\n",
       "      <td>0.5</td>\n",
       "    </tr>\n",
       "    <tr>\n",
       "      <th>16</th>\n",
       "      <td>1.0</td>\n",
       "      <td>0.0</td>\n",
       "      <td>0.0</td>\n",
       "    </tr>\n",
       "  </tbody>\n",
       "</table>\n",
       "</div>"
      ],
      "text/plain": [
       "user_id    1    4    5\n",
       "book_id               \n",
       "10       0.0  0.0  1.0\n",
       "12       0.0  1.0  0.0\n",
       "15       0.0  0.5  0.5\n",
       "16       1.0  0.0  0.0"
      ]
     },
     "execution_count": 73,
     "metadata": {},
     "output_type": "execute_result"
    }
   ],
   "source": [
    "pivot"
   ]
  },
  {
   "cell_type": "code",
   "execution_count": 74,
   "id": "eb6df076",
   "metadata": {},
   "outputs": [],
   "source": [
    "# Get the cosine similarity between the pivot table and itself\n",
    "similarity = cosine_similarity(pivot, pivot)"
   ]
  },
  {
   "cell_type": "code",
   "execution_count": 75,
   "id": "0432d2e4",
   "metadata": {},
   "outputs": [
    {
     "data": {
      "text/plain": [
       "array([[1.        , 0.        , 0.70710678, 0.        ],\n",
       "       [0.        , 1.        , 0.70710678, 0.        ],\n",
       "       [0.70710678, 0.70710678, 1.        , 0.        ],\n",
       "       [0.        , 0.        , 0.        , 1.        ]])"
      ]
     },
     "execution_count": 75,
     "metadata": {},
     "output_type": "execute_result"
    }
   ],
   "source": [
    "similarity"
   ]
  },
  {
   "cell_type": "code",
   "execution_count": 76,
   "id": "bde7f913",
   "metadata": {},
   "outputs": [],
   "source": [
    "# Map the similarity to the unrated books\n",
    "similarity_map = pd.DataFrame(similarity, index=pivot.index, columns=pivot.index)\n",
    "similarity_map = similarity_map.sort_values(by=similarity_map.columns[0], ascending=False)"
   ]
  },
  {
   "cell_type": "code",
   "execution_count": 77,
   "id": "d68a0019",
   "metadata": {},
   "outputs": [
    {
     "data": {
      "text/html": [
       "<div>\n",
       "<style scoped>\n",
       "    .dataframe tbody tr th:only-of-type {\n",
       "        vertical-align: middle;\n",
       "    }\n",
       "\n",
       "    .dataframe tbody tr th {\n",
       "        vertical-align: top;\n",
       "    }\n",
       "\n",
       "    .dataframe thead th {\n",
       "        text-align: right;\n",
       "    }\n",
       "</style>\n",
       "<table border=\"1\" class=\"dataframe\">\n",
       "  <thead>\n",
       "    <tr style=\"text-align: right;\">\n",
       "      <th>book_id</th>\n",
       "      <th>10</th>\n",
       "      <th>12</th>\n",
       "      <th>15</th>\n",
       "      <th>16</th>\n",
       "    </tr>\n",
       "    <tr>\n",
       "      <th>book_id</th>\n",
       "      <th></th>\n",
       "      <th></th>\n",
       "      <th></th>\n",
       "      <th></th>\n",
       "    </tr>\n",
       "  </thead>\n",
       "  <tbody>\n",
       "    <tr>\n",
       "      <th>10</th>\n",
       "      <td>1.000000</td>\n",
       "      <td>0.000000</td>\n",
       "      <td>0.707107</td>\n",
       "      <td>0.0</td>\n",
       "    </tr>\n",
       "    <tr>\n",
       "      <th>15</th>\n",
       "      <td>0.707107</td>\n",
       "      <td>0.707107</td>\n",
       "      <td>1.000000</td>\n",
       "      <td>0.0</td>\n",
       "    </tr>\n",
       "    <tr>\n",
       "      <th>12</th>\n",
       "      <td>0.000000</td>\n",
       "      <td>1.000000</td>\n",
       "      <td>0.707107</td>\n",
       "      <td>0.0</td>\n",
       "    </tr>\n",
       "    <tr>\n",
       "      <th>16</th>\n",
       "      <td>0.000000</td>\n",
       "      <td>0.000000</td>\n",
       "      <td>0.000000</td>\n",
       "      <td>1.0</td>\n",
       "    </tr>\n",
       "  </tbody>\n",
       "</table>\n",
       "</div>"
      ],
      "text/plain": [
       "book_id        10        12        15   16\n",
       "book_id                                   \n",
       "10       1.000000  0.000000  0.707107  0.0\n",
       "15       0.707107  0.707107  1.000000  0.0\n",
       "12       0.000000  1.000000  0.707107  0.0\n",
       "16       0.000000  0.000000  0.000000  1.0"
      ]
     },
     "execution_count": 77,
     "metadata": {},
     "output_type": "execute_result"
    }
   ],
   "source": [
    "similarity_map"
   ]
  },
  {
   "cell_type": "code",
   "execution_count": null,
   "id": "0806f8a6",
   "metadata": {},
   "outputs": [],
   "source": []
  },
  {
   "cell_type": "code",
   "execution_count": null,
   "id": "88ceb34c",
   "metadata": {},
   "outputs": [],
   "source": [
    "# Get the user's book IDs\n",
    "user_book_ids = df[df['user_id'] == user_id]['book_id'].tolist()\n",
    "\n",
    "# Get the books the user has not rated\n",
    "unrated_books = df[~df['book_id'].isin(user_book_ids)]\n",
    "\n",
    "# Create a pivot table of the user's book IDs\n",
    "pivot = pd.crosstab(index=df['book_id'], columns=df['user_id'], values=df['book_id'], aggfunc='count', normalize='index')\n",
    "\n",
    "# Get the cosine similarity between the pivot table and itself\n",
    "similarity = cosine_similarity(pivot, pivot)\n",
    "\n",
    "# Map the similarity to the unrated books\n",
    "similarity_map = pd.DataFrame(similarity, index=pivot.index, columns=pivot.index)\n",
    "similarity_map = similarity_map.sort_values(by=similarity_map.columns[0], ascending=False)\n",
    "\n",
    "# Get the top N most similar books to the pivot\n",
    "top_n = similarity_map[unrated_books['book_id']].head(num_recommendations)\n",
    "# Get the top N most similar books' IDs\n",
    "top_n_book_ids = top_n.index.tolist()\n"
   ]
  },
  {
   "cell_type": "code",
   "execution_count": null,
   "id": "20991e95",
   "metadata": {},
   "outputs": [],
   "source": [
    "top_n = similarity_map[unrated_books['book_id']].sort_values(15,ascending=False)"
   ]
  },
  {
   "cell_type": "code",
   "execution_count": null,
   "id": "f5d6c19e",
   "metadata": {},
   "outputs": [],
   "source": [
    "top_n,similarity,similarity_map"
   ]
  },
  {
   "cell_type": "code",
   "execution_count": null,
   "id": "d9ff642c",
   "metadata": {},
   "outputs": [],
   "source": []
  },
  {
   "cell_type": "code",
   "execution_count": null,
   "id": "f113539a",
   "metadata": {},
   "outputs": [],
   "source": [
    "# Get the user's books\n",
    "user_books = df[df['user_id'] == user_id]\n",
    "\n",
    "# Get the books the user has not rated\n",
    "unrated_books = df[~df['book_id'].isin(user_books['book_id'])]\n",
    "\n",
    "# Create a pivot table of the user's books\n",
    "pivot = pd.pivot_table(df, index='book_id', columns='user_id', values='book_id')\n",
    "\n",
    "# Get the cosine similarity between the pivot table and itself\n",
    "similarity = cosine_similarity(pivot, pivot)\n",
    "\n",
    "# Map the similarity to the unrated books\n",
    "similarity_map = pd.DataFrame(similarity, index=pivot.index, columns=pivot.index)\n",
    "\n",
    "# Get the top N most similar books to the pivot\n",
    "#top_n = similarity_map[unrated_books['book_id']].sort_values(user_id, ascending=False).head(num_recommendations)\n"
   ]
  },
  {
   "cell_type": "code",
   "execution_count": null,
   "id": "6bdfb5c1",
   "metadata": {},
   "outputs": [],
   "source": [
    "!pip install scikit-learn"
   ]
  },
  {
   "cell_type": "code",
   "execution_count": null,
   "id": "c52bd177",
   "metadata": {},
   "outputs": [],
   "source": [
    "similarity_map = pd.DataFrame(similarity, index=pivot.index, columns=pivot.columns)\n"
   ]
  },
  {
   "cell_type": "code",
   "execution_count": null,
   "id": "1918f936",
   "metadata": {},
   "outputs": [],
   "source": [
    "import pandas as pd\n",
    "from scipy.spatial.distance import cosine\n",
    "\n",
    "def prepare_data():\n",
    "    return [\n",
    "        [1, 1, 5],\n",
    "        [1, 2, 4],\n",
    "        [1, 3, 2],\n",
    "        [2, 1, 4],\n",
    "        [2, 2, 3],\n",
    "        [2, 3, 5],\n",
    "        [3, 1, 2],\n",
    "        [3, 2, 1],\n",
    "        [3, 3, 5],\n",
    "    ]\n",
    "\n",
    "def get_recommendations(user_id, df, num_recommendations):\n",
    "    pivot = pd.pivot_table(df, values='rating', index='user_id', columns='book_id')\n",
    "    user_ratings = pivot.loc[user_id].dropna()\n",
    "    unrated_books = pivot.loc[:, pivot.loc[user_id].isna()].dropna(axis=1)\n",
    "    similarity = 1 - cosine(pivot.loc[user_id].values.reshape(1, -1), pivot.T)\n",
    "    similarity_map = pd.Series(similarity, index=pivot.index)\n",
    "    top_n = similarity_map.sort_values(ascending=False).head(num_recommendations+1)\n",
    "    top_n = top_n.drop(user_id)\n",
    "    top_n_book_ids = top_n.index.tolist()\n",
    "    return top_n_book_ids\n",
    "\n",
    "data = prepare_data()\n",
    "df = pd.DataFrame(data, columns=['user_id', 'book_id', 'rating'])\n",
    "top_n_book_ids = get_recommendations(1, df, 2)\n",
    "print(top_n_book_ids)\n"
   ]
  },
  {
   "cell_type": "code",
   "execution_count": null,
   "id": "4bf972d7",
   "metadata": {},
   "outputs": [],
   "source": []
  }
 ],
 "metadata": {
  "kernelspec": {
   "display_name": "Python 3 (ipykernel)",
   "language": "python",
   "name": "python3"
  },
  "language_info": {
   "codemirror_mode": {
    "name": "ipython",
    "version": 3
   },
   "file_extension": ".py",
   "mimetype": "text/x-python",
   "name": "python",
   "nbconvert_exporter": "python",
   "pygments_lexer": "ipython3",
   "version": "3.9.12"
  }
 },
 "nbformat": 4,
 "nbformat_minor": 5
}
